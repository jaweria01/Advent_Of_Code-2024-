{
  "nbformat": 4,
  "nbformat_minor": 0,
  "metadata": {
    "colab": {
      "provenance": [],
      "authorship_tag": "ABX9TyPrdkfpFp4WP9Z4TpOsMEKZ",
      "include_colab_link": true
    },
    "kernelspec": {
      "name": "python3",
      "display_name": "Python 3"
    },
    "language_info": {
      "name": "python"
    }
  },
  "cells": [
    {
      "cell_type": "markdown",
      "metadata": {
        "id": "view-in-github",
        "colab_type": "text"
      },
      "source": [
        "<a href=\"https://colab.research.google.com/github/jaweria01/Advent_Of_Code-2024-/blob/main/day1.ipynb\" target=\"_parent\"><img src=\"https://colab.research.google.com/assets/colab-badge.svg\" alt=\"Open In Colab\"/></a>"
      ]
    },
    {
      "cell_type": "markdown",
      "source": [
        "Day1"
      ],
      "metadata": {
        "id": "nrwDhHvBcyOr"
      }
    },
    {
      "cell_type": "code",
      "source": [
        "with open('input1.txt', 'r') as file:\n",
        "    i = file.read()\n",
        "# Split the input string into a flat list of numbers (as strings)\n",
        "p = i.split()\n",
        "\n",
        "# Initialize two empty lists to store numbers from even and odd indices\n",
        "left = []\n",
        "right = []\n",
        "\n",
        "# Enumerate through the list `p` to access both index and value\n",
        "for i, j in enumerate(p):\n",
        "    if i % 2 == 0:  # Check if the index is even\n",
        "        left.append(int(j))  # Add the number to the 'left' list (convert to int)\n",
        "    else:  # Index is odd\n",
        "        right.append(int(j))  # Add the number to the 'right' list (convert to int)\n",
        "\n",
        "# Sort both lists in ascending order\n",
        "left.sort()\n",
        "right.sort()\n",
        "\n",
        "# Initialize a variable to store the total difference\n",
        "ans = 0\n",
        "\n",
        "# Iterate through the sorted 'left' and 'right' lists simultaneously\n",
        "for x, y in zip(left, right):\n",
        "    ans = ans + abs(y - x)  # Add the absolute difference between corresponding elements\n",
        "\n",
        "# Print the result\n",
        "print(ans) # Expected result: 805"
      ],
      "metadata": {
        "colab": {
          "base_uri": "https://localhost:8080/"
        },
        "id": "bjEus-RBc0Ku",
        "outputId": "93b2f50f-ab1b-4278-b9ae-a4f7f8886de5"
      },
      "execution_count": null,
      "outputs": [
        {
          "output_type": "stream",
          "name": "stdout",
          "text": [
            "805\n"
          ]
        }
      ]
    }
  ]
}