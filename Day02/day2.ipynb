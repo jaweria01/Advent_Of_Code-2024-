# Read input data from the file
with open('input.txt', 'r') as file:
    i = file.read()

# Split the input into individual rows (lines)
rows = i.splitlines()

# Initialize a counter for safe reports
safe_count = 0

# Process each row
for row in rows:
    # Convert the row into a list of integers
    levels = list(map(int, row.split()))

    # Assume the report is safe initially
    is_safe = True

    # Check for differences between adjacent numbers
    for x, y in zip(levels, levels[1:]):
        if abs(y - x) < 1 or abs(y - x) > 3:  # Difference not within the range [1, 3]
            is_safe = False
            break

    # Check if the sequence is strictly increasing or decreasing
    if is_safe and not (all(y > x for x, y in zip(levels, levels[1:])) or
                        all(y < x for x, y in zip(levels, levels[1:]))):
        is_safe = False

    # If the report is safe, increment the counter
    if is_safe:
        safe_count += 1

# Print the total number of safe reports
print("Total safe reports:", safe_count) #Total safe reports: 299
