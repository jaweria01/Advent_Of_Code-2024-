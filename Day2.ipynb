{
  "nbformat": 4,
  "nbformat_minor": 0,
  "metadata": {
    "colab": {
      "provenance": [],
      "authorship_tag": "ABX9TyPF9Hz4B7gDUnlvTpxnThMi",
      "include_colab_link": true
    },
    "kernelspec": {
      "name": "python3",
      "display_name": "Python 3"
    },
    "language_info": {
      "name": "python"
    }
  },
  "cells": [
    {
      "cell_type": "markdown",
      "metadata": {
        "id": "view-in-github",
        "colab_type": "text"
      },
      "source": [
        "<a href=\"https://colab.research.google.com/github/jaweria01/Advent_Of_Code-2024-/blob/main/Day2.ipynb\" target=\"_parent\"><img src=\"https://colab.research.google.com/assets/colab-badge.svg\" alt=\"Open In Colab\"/></a>"
      ]
    },
    {
      "cell_type": "code",
      "execution_count": 1,
      "metadata": {
        "colab": {
          "base_uri": "https://localhost:8080/"
        },
        "id": "69V_AyqjwVsI",
        "outputId": "08d27dfd-0443-4b10-ec2f-d5e725316887"
      },
      "outputs": [
        {
          "output_type": "stream",
          "name": "stdout",
          "text": [
            "Total safe reports: 299\n"
          ]
        }
      ],
      "source": [
        "# Read input data from the file\n",
        "with open('input2.txt', 'r') as file:\n",
        "    i = file.read()\n",
        "\n",
        "# Split the input into individual rows (lines)\n",
        "rows = i.splitlines()\n",
        "\n",
        "# Initialize a counter for safe reports\n",
        "safe_count = 0\n",
        "\n",
        "# Process each row\n",
        "for row in rows:\n",
        "    # Convert the row into a list of integers\n",
        "    levels = list(map(int, row.split()))\n",
        "\n",
        "    # Assume the report is safe initially\n",
        "    is_safe = True\n",
        "\n",
        "    # Check for differences between adjacent numbers\n",
        "    for x, y in zip(levels, levels[1:]):\n",
        "        if abs(y - x) < 1 or abs(y - x) > 3:  # Difference not within the range [1, 3]\n",
        "            is_safe = False\n",
        "            break\n",
        "\n",
        "    # Check if the sequence is strictly increasing or decreasing\n",
        "    if is_safe and not (all(y > x for x, y in zip(levels, levels[1:])) or\n",
        "                        all(y < x for x, y in zip(levels, levels[1:]))):\n",
        "        is_safe = False\n",
        "\n",
        "    # If the report is safe, increment the counter\n",
        "    if is_safe:\n",
        "        safe_count += 1\n",
        "\n",
        "# Print the total number of safe reports\n",
        "print(\"Total safe reports:\", safe_count) #Total safe reports: 299"
      ]
    }
  ]
}