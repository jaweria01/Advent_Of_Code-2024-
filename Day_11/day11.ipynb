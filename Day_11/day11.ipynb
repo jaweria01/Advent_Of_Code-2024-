{
  "nbformat": 4,
  "nbformat_minor": 0,
  "metadata": {
    "colab": {
      "provenance": [],
      "authorship_tag": "ABX9TyNHfUol0BcOdmhEnMbnVatn",
      "include_colab_link": true
    },
    "kernelspec": {
      "name": "python3",
      "display_name": "Python 3"
    },
    "language_info": {
      "name": "python"
    }
  },
  "cells": [
    {
      "cell_type": "markdown",
      "metadata": {
        "id": "view-in-github",
        "colab_type": "text"
      },
      "source": [
        "<a href=\"https://colab.research.google.com/github/jaweria01/Advent_Of_Code-2024-/blob/main/Day_11/day11.ipynb\" target=\"_parent\"><img src=\"https://colab.research.google.com/assets/colab-badge.svg\" alt=\"Open In Colab\"/></a>"
      ]
    },
    {
      "cell_type": "markdown",
      "source": [
        "## **Day 11**"
      ],
      "metadata": {
        "id": "o__7u9scwwoL"
      }
    },
    {
      "cell_type": "markdown",
      "source": [
        "### **Part 1**"
      ],
      "metadata": {
        "id": "ImKa_XgQPtt1"
      }
    },
    {
      "cell_type": "markdown",
      "source": [
        "```\n",
        "The ancient civilization on Pluto was known for its ability to manipulate spacetime, and while The Historians explore their infinite corridors, you've noticed a strange set of physics-defying stones.\n",
        "\n",
        "At first glance, they seem like normal stones: they're arranged in a perfectly straight line, and each stone has a number engraved on it.\n",
        "\n",
        "The strange part is that every time you blink, the stones change.\n",
        "\n",
        "Sometimes, the number engraved on a stone changes. Other times, a stone might split in two, causing all the other stones to shift over a bit to make room in their perfectly straight line.\n",
        "\n",
        "As you observe them for a while, you find that the stones have a consistent behavior. Every time you blink, the stones each simultaneously change according to the first applicable rule in this list:\n",
        "\n",
        "If the stone is engraved with the number 0, it is replaced by a stone engraved with the number 1.\n",
        "If the stone is engraved with a number that has an even number of digits, it is replaced by two stones. The left half of the digits are engraved on the new left stone, and the right half of the digits are engraved on the new right stone. (The new numbers don't keep extra leading zeroes: 1000 would become stones 10 and 0.)\n",
        "If none of the other rules apply, the stone is replaced by a new stone; the old stone's number multiplied by 2024 is engraved on the new stone.\n",
        "No matter how the stones change, their order is preserved, and they stay on their perfectly straight line.\n",
        "\n",
        "How will the stones evolve if you keep blinking at them? You take a note of the number engraved on each stone in the line (your puzzle input).\n",
        "\n",
        "If you have an arrangement of five stones engraved with the numbers 0 1 10 99 999 and you blink once, the stones transform as follows:\n",
        "\n",
        "The first stone, 0, becomes a stone marked 1.\n",
        "The second stone, 1, is multiplied by 2024 to become 2024.\n",
        "The third stone, 10, is split into a stone marked 1 followed by a stone marked 0.\n",
        "The fourth stone, 99, is split into two stones marked 9.\n",
        "The fifth stone, 999, is replaced by a stone marked 2021976.\n",
        "So, after blinking once, your five stones would become an arrangement of seven stones engraved with the numbers 1 2024 1 0 9 9 2021976.\n",
        "\n",
        "Here is a longer example:\n",
        "\n",
        "```\n",
        "```\n",
        "Initial arrangement:\n",
        "125 17\n",
        "\n",
        "After 1 blink:\n",
        "253000 1 7\n",
        "\n",
        "After 2 blinks:\n",
        "253 0 2024 14168\n",
        "\n",
        "After 3 blinks:\n",
        "512072 1 20 24 28676032\n",
        "\n",
        "After 4 blinks:\n",
        "512 72 2024 2 0 2 4 2867 6032\n",
        "\n",
        "After 5 blinks:\n",
        "1036288 7 2 20 24 4048 1 4048 8096 28 67 60 32\n",
        "\n",
        "After 6 blinks:\n",
        "2097446912 14168 4048 2 0 2 4 40 48 2024 40 48 80 96 2 8 6 7 6 0 3 2\n",
        "\n",
        "```\n",
        "\n",
        "In this example, after blinking six times, you would have 22 stones. After blinking 25 times, you would have 55312 stones!\n",
        "\n",
        "Consider the arrangement of stones in front of you. How many stones will you have after blinking 25 times?"
      ],
      "metadata": {
        "id": "cR7--ZO8w2MG"
      }
    },
    {
      "cell_type": "code",
      "source": [
        "# from typing import List, Tuple, Set\n",
        "\n",
        "# def read_input(filename: str) -> List[List[int]]:\n",
        "#     \"\"\"Read the input file and convert it to a 2D list of integers.\"\"\"\n",
        "#     with open(filename, 'r') as file:\n",
        "#         return [list(map(int, line.strip())) for line in file]\n",
        "\n",
        "# def find_trail_to_nine(grid: List[List[int]], start: Tuple[int, int]) -> List[Tuple[int, int]]:\n",
        "#     \"\"\"\n",
        "#     Find all 9-height positions reachable from a trailhead via a valid hiking trail.\n",
        "#     \"\"\"\n",
        "#     rows, cols = len(grid), len(grid[0])\n",
        "#     nine_positions = []\n",
        "\n",
        "#     def dfs(x: int, y: int, current_height: int, path: Set[Tuple[int, int]]) -> None:\n",
        "#         # If we've reached height 9, this is a valid trail\n",
        "#         if grid[x][y] == 9:\n",
        "#             nine_positions.append((x, y))\n",
        "#             return\n",
        "\n",
        "#         # Possible moves: up, down, left, right\n",
        "#         for dx, dy in [(0,1), (0,-1), (1,0), (-1,0)]:\n",
        "#             nx, ny = x + dx, y + dy\n",
        "\n",
        "#             # Check if new cell is within grid and a valid next step\n",
        "#             if (0 <= nx < rows and 0 <= ny < cols and\n",
        "#                 (nx, ny) not in path and\n",
        "#                 grid[nx][ny] == current_height + 1):\n",
        "#                 # Create a new path including this step\n",
        "#                 new_path = path.copy()\n",
        "#                 new_path.add((nx, ny))\n",
        "#                 # Continue the trail\n",
        "#                 dfs(nx, ny, grid[nx][ny], new_path)\n",
        "\n",
        "#     # Start the search from the trailhead\n",
        "#     dfs(start[0], start[1], grid[start[0]][start[1]], {start})\n",
        "\n",
        "#     return nine_positions\n",
        "\n",
        "# def solve_trailheads(grid: List[List[int]]) -> int:\n",
        "#     \"\"\"\n",
        "#     Find all trailheads and calculate their scores.\n",
        "#     \"\"\"\n",
        "#     rows, cols = len(grid), len(grid[0])\n",
        "#     trailhead_scores = []\n",
        "\n",
        "#     # Find all trailheads (positions with height 0)\n",
        "#     trailheads = [(r, c) for r in range(rows) for c in range(cols) if grid[r][c] == 0]\n",
        "\n",
        "#     # Calculate score for each trailhead\n",
        "#     for trailhead in trailheads:\n",
        "#         # Find unique 9-height positions reachable from this trailhead\n",
        "#         reachable_nines = set(find_trail_to_nine(grid, trailhead))\n",
        "#         trailhead_scores.append(len(reachable_nines))\n",
        "\n",
        "#     # Verbose output for debugging\n",
        "#     print(\"Trailhead Scores:\", trailhead_scores)\n",
        "\n",
        "#     return sum(trailhead_scores)\n",
        "\n",
        "# def main():\n",
        "#     # Read input from file\n",
        "#     grid = read_input('input11.txt')\n",
        "\n",
        "#     # Solve and print the total trailhead score\n",
        "#     total_score = solve_trailheads(grid)\n",
        "#     print(f\"Sum of trailhead scores: {total_score}\")\n",
        "\n",
        "# if __name__ == \"__main__\":\n",
        "#     main()"
      ],
      "metadata": {
        "id": "Jf5NA7gfw0Cl"
      },
      "execution_count": null,
      "outputs": []
    },
    {
      "cell_type": "code",
      "source": [
        "def simulate_blinks(stones, num_blinks):\n",
        "    for _ in range(num_blinks):\n",
        "        new_stones = []\n",
        "        for stone in stones:\n",
        "            if stone == 0:\n",
        "                new_stones.append(1)\n",
        "            elif len(str(stone)) % 2 == 0:  # Even number of digits\n",
        "                stone_str = str(stone)\n",
        "                mid = len(stone_str) // 2\n",
        "                left = int(stone_str[:mid])\n",
        "                right = int(stone_str[mid:])\n",
        "                new_stones.extend([left, right])\n",
        "            else:\n",
        "                new_stones.append(stone * 2024)\n",
        "        stones = new_stones\n",
        "    return stones\n",
        "\n",
        "\n",
        "def main():\n",
        "    # Read initial stones from input.txt\n",
        "    file_path = \"input11.txt\"\n",
        "    with open(file_path, 'r') as file:\n",
        "        content = file.read().strip()\n",
        "\n",
        "    # Extract initial stones (assume they are space-separated integers)\n",
        "    initial_stones = list(map(int, content.split()))\n",
        "\n",
        "    # Simulate blinks\n",
        "    num_blinks = 25\n",
        "    final_stones = simulate_blinks(initial_stones, num_blinks)\n",
        "\n",
        "    # Output the number of stones\n",
        "    print(\"Number of stones after 25 blinks:\", len(final_stones))\n",
        "\n",
        "\n",
        "if __name__ == \"__main__\":\n",
        "    main()"
      ],
      "metadata": {
        "colab": {
          "base_uri": "https://localhost:8080/"
        },
        "id": "wOULNy_z9us3",
        "outputId": "a48e19b4-1462-4375-fbf3-64a977941403"
      },
      "execution_count": null,
      "outputs": [
        {
          "output_type": "stream",
          "name": "stdout",
          "text": [
            "Number of stones after 25 blinks: 197157\n"
          ]
        }
      ]
    },
    {
      "cell_type": "markdown",
      "source": [
        "#### **Part 2**\n",
        "The Historians sure are taking a long time. To be fair, the infinite corridors are very large.\n",
        "\n",
        "How many stones would you have after blinking a total of 75 times?"
      ],
      "metadata": {
        "id": "iDok2frCArTA"
      }
    },
    {
      "cell_type": "code",
      "source": [
        "def simulate_blinks_count(stones, num_blinks):\n",
        "    \"\"\"\n",
        "    Simulate the evolution of stones by counting their behavior.\n",
        "    \"\"\"\n",
        "    from collections import Counter\n",
        "    # Count the initial stones\n",
        "    stone_counts = Counter(stones)  # {stone_value: count}\n",
        "\n",
        "    for _ in range(num_blinks):\n",
        "        new_counts = Counter()\n",
        "        for stone, count in stone_counts.items():\n",
        "            if stone == 0:\n",
        "                new_counts[1] += count\n",
        "            elif len(str(stone)) % 2 == 0:  # Even number of digits\n",
        "                stone_str = str(stone)\n",
        "                mid = len(stone_str) // 2\n",
        "                left = int(stone_str[:mid])\n",
        "                right = int(stone_str[mid:])\n",
        "                new_counts[left] += count\n",
        "                new_counts[right] += count\n",
        "            else:\n",
        "                new_counts[stone * 2024] += count\n",
        "        stone_counts = new_counts\n",
        "\n",
        "    # Total number of stones\n",
        "    return sum(stone_counts.values())\n",
        "\n",
        "\n",
        "def main():\n",
        "    # Read initial stones from input.txt\n",
        "    file_path = \"input11.txt\"\n",
        "    with open(file_path, 'r') as file:\n",
        "        content = file.read().strip()\n",
        "\n",
        "    # Extract initial stones (assume they are space-separated integers)\n",
        "    initial_stones = list(map(int, content.split()))\n",
        "\n",
        "    # Simulate blinks\n",
        "    num_blinks = 75\n",
        "    total_stones = simulate_blinks_count(initial_stones, num_blinks)\n",
        "\n",
        "    # Output the number of stones\n",
        "    print(\"Number of stones after 75 blinks:\", total_stones)\n",
        "\n",
        "\n",
        "if __name__ == \"__main__\":\n",
        "    main()"
      ],
      "metadata": {
        "id": "37GSXXCAAv6Y",
        "outputId": "60c269e7-63b5-4d25-d60b-8474a56e8f73",
        "colab": {
          "base_uri": "https://localhost:8080/"
        }
      },
      "execution_count": null,
      "outputs": [
        {
          "output_type": "stream",
          "name": "stdout",
          "text": [
            "Number of stones after 75 blinks: 234430066982597\n"
          ]
        }
      ]
    }
  ]
}