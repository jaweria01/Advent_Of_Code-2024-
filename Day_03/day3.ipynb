{
  "nbformat": 4,
  "nbformat_minor": 0,
  "metadata": {
    "colab": {
      "provenance": [],
      "authorship_tag": "ABX9TyN2j8iPyfhzd8ykRjnq+xE3",
      "include_colab_link": true
    },
    "kernelspec": {
      "name": "python3",
      "display_name": "Python 3"
    },
    "language_info": {
      "name": "python"
    }
  },
  "cells": [
    {
      "cell_type": "markdown",
      "metadata": {
        "id": "view-in-github",
        "colab_type": "text"
      },
      "source": [
        "<a href=\"https://colab.research.google.com/github/jaweria01/Advent_Of_Code-2024-/blob/main/Day_03/day3.ipynb\" target=\"_parent\"><img src=\"https://colab.research.google.com/assets/colab-badge.svg\" alt=\"Open In Colab\"/></a>"
      ]
    },
    {
      "cell_type": "markdown",
      "source": [
        "**Day 3:**"
      ],
      "metadata": {
        "id": "3aW4iiUbXrII"
      }
    },
    {
      "cell_type": "markdown",
      "source": [
        "--- Day 3: Mull It Over ---\n",
        "\"Our computers are having issues, so I have no idea if we have any Chief Historians in stock! You're welcome to check the warehouse, though,\" says the mildly flustered shopkeeper at the North Pole Toboggan Rental Shop. The Historians head out to take a look.\n",
        "\n",
        "`The shopkeeper turns to you. \"Any chance you can see why our computers are having issues again?\" `\n",
        "\n",
        "The computer appears to be trying to run a program, but its memory (your puzzle input) is corrupted. All of the instructions have been jumbled up!\n",
        "\n",
        "It seems like the goal of the program is just to multiply some numbers. It does that with instructions like mul(X,Y), where X and Y are each 1-3 digit numbers. For instance, mul(44,46) multiplies 44 by 46 to get a result of 2024. Similarly, mul(123,4) would multiply 123 by 4.\n",
        "\n",
        "However, because the program's memory has been corrupted, there are also many invalid characters that should be ignored, even if they look like part of a mul instruction. Sequences like mul(4*, mul(6,9!, ?(12,34), or mul ( 2 , 4 ) do nothing.\n",
        "\n",
        "For example, consider the following section of corrupted memory:\n",
        "\n",
        "`xmul(2,4)%&mul[3,7]!@^do_not_mul(5,5)+mul(32,64]then(mul(11,8)mul(8,5))\n",
        "Only the four highlighted sections are real mul instructions. Adding up the result of each instruction produces 161 (2*4 + 5*5 + 11*8 + 8*5).`\n",
        "\n",
        "**Scan the corrupted memory for uncorrupted mul instructions. What do you get if you add up all of the results of the multiplications?**"
      ],
      "metadata": {
        "id": "lsTXR1tmXuH5"
      }
    },
    {
      "cell_type": "code",
      "source": [
        "import re\n",
        "\n",
        "# Open and read the input file\n",
        "with open('input3.txt', 'r') as file:\n",
        "    data = file.read()\n",
        "\n",
        "# Regular expression to match valid mul(X,Y) instructions\n",
        "# The pattern matches \"mul(\", followed by one to three digits, a comma, one to three digits, and a closing parenthesis.\n",
        "pattern = r\"mul\\((\\d{1,3}),(\\d{1,3})\\)\"\n",
        "\n",
        "# Find all matches of the pattern in the input data\n",
        "matches = re.findall(pattern, data)\n",
        "\n",
        "# Initialize a variable to store the total sum\n",
        "total = 0\n",
        "\n",
        "# Iterate through all matches\n",
        "for x, y in matches:\n",
        "    total += int(x) * int(y)  # Convert x and y to integers and calculate their product\n",
        "\n",
        "# Print the result\n",
        "print(total) # 173529487"
      ],
      "metadata": {
        "colab": {
          "base_uri": "https://localhost:8080/"
        },
        "id": "8AXT1sj6YWab",
        "outputId": "6b5a9851-b9d1-47d7-9a50-74113a540ee8"
      },
      "execution_count": null,
      "outputs": [
        {
          "output_type": "stream",
          "name": "stdout",
          "text": [
            "173529487\n"
          ]
        }
      ]
    },
    {
      "cell_type": "markdown",
      "source": [
        "--- Part Two ---\n",
        "As you scan through the corrupted memory, you notice that some of the conditional statements are also still intact. If you handle some of the uncorrupted conditional statements in the program, you might be able to get an even more accurate result.\n",
        "\n",
        "There are two new instructions you'll need to handle:\n",
        "\n",
        "The do() instruction enables future mul instructions.\n",
        "The don't() instruction disables future mul instructions.\n",
        "Only the most recent do() or don't() instruction applies. At the beginning of the program, mul instructions are enabled.\n",
        "\n",
        "For example:\n",
        "\n",
        "`xmul(2,4)&mul[3,7]!^don't()_mul(5,5)+mul(32,64](mul(11,8)undo()?mul(8,5))`\n",
        "This corrupted memory is similar to the example from before, but this time the mul(5,5) and mul(11,8) instructions are disabled because there is a don't() instruction before them. The other mul instructions function normally, including the one at the end that gets re-enabled by a do() instruction.\n",
        "\n",
        "`This time, the sum of the results is 48 (2*4 + 8*5).`\n",
        "\n",
        "Handle the new instructions; what do you get if you add up all of the results of just the enabled multiplications?"
      ],
      "metadata": {
        "id": "tYHHhLO6ZLi9"
      }
    },
    {
      "cell_type": "code",
      "source": [
        "import re\n",
        "\n",
        "# Open and read the input file\n",
        "with open('input3.txt', 'r') as file:\n",
        "    data = file.read()\n",
        "\n",
        "# Regular expressions to match instructions\n",
        "mul_pattern = r\"mul\\((\\d{1,3}),(\\d{1,3})\\)\"  # Matches mul(X,Y)\n",
        "do_pattern = r\"do\\(\\)\"                        # Matches do()\n",
        "dont_pattern = r\"don't\\(\\)\"                   # Matches don't()\n",
        "\n",
        "# Find all matches in the input, preserving order\n",
        "instructions = re.findall(f\"({do_pattern})|({dont_pattern})|{mul_pattern}\", data)\n",
        "\n",
        "# Variable to track if mul instructions are enabled\n",
        "enabled = True\n",
        "\n",
        "# Variable to store the total sum\n",
        "total = 0\n",
        "\n",
        "# Process each instruction\n",
        "for instruction in instructions:\n",
        "    if instruction[0]:  # Matches do()\n",
        "        enabled = True\n",
        "    elif instruction[1]:  # Matches don't()\n",
        "        enabled = False\n",
        "    elif instruction[2] and instruction[3] and enabled:  # Matches mul(X,Y) if enabled\n",
        "        x, y = map(int, instruction[2:4])  # Extract numbers from the mul() match\n",
        "        total += x * y  # Add their product to the total\n",
        "\n",
        "# Print the result\n",
        "print(total)"
      ],
      "metadata": {
        "colab": {
          "base_uri": "https://localhost:8080/"
        },
        "id": "IdAYYIA3ZcY9",
        "outputId": "bd78fbb0-8682-4d87-e823-ab0c3417cd13"
      },
      "execution_count": null,
      "outputs": [
        {
          "output_type": "stream",
          "name": "stdout",
          "text": [
            "99532691\n"
          ]
        }
      ]
    }
  ]
}