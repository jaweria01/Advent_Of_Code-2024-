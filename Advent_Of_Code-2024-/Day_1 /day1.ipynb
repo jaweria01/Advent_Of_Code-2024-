{
  "nbformat": 4,
  "nbformat_minor": 0,
  "metadata": {
    "colab": {
      "provenance": [],
      "authorship_tag": "ABX9TyMehOA6aiNXSGL3x4pkQ+lr",
      "include_colab_link": true
    },
    "kernelspec": {
      "name": "python3",
      "display_name": "Python 3"
    },
    "language_info": {
      "name": "python"
    }
  },
  "cells": [
    {
      "cell_type": "markdown",
      "metadata": {
        "id": "view-in-github",
        "colab_type": "text"
      },
      "source": [
        "<a href=\"https://colab.research.google.com/github/jaweria01/Advent_Of_Code-2024-/blob/main/Advent_Of_Code-2024-/Day_1%20/day1.ipynb\" target=\"_parent\"><img src=\"https://colab.research.google.com/assets/colab-badge.svg\" alt=\"Open In Colab\"/></a>"
      ]
    },
    {
      "cell_type": "markdown",
      "source": [
        "Day1"
      ],
      "metadata": {
        "id": "nrwDhHvBcyOr"
      }
    },
    {
      "cell_type": "markdown",
      "source": [
        "```\n",
        "--- Day 1: Historian Hysteria ---\n",
        "The Chief Historian is always present for the big Christmas sleigh launch, but nobody has seen him in months! Last anyone heard,\n",
        "he was visiting locations that are historically significant to the North Pole; a group of Senior Historians\n",
        "has asked you to accompany them as they check the places they think he was most likely to visit.\n",
        "\n",
        "As each location is checked, they will mark it on their list with a star. They figure the Chief Historian must\n",
        "be in one of the first fifty places they'll look, so in order to save Christmas,\n",
        "you need to help them get fifty stars on their list before Santa takes off on December 25th.\n",
        "\n",
        "Collect stars by solving puzzles. Two puzzles will be made available on each day in the Advent calendar;\n",
        "the second puzzle is unlocked when you complete the first. Each puzzle grants one star. Good luck!\n",
        "\n",
        "You haven't even left yet and the group of Elvish Senior Historians has already hit a problem:\n",
        "their list of locations to check is currently empty. Eventually, someone decides that the best place to check first would be the Chief Historian's office.\n",
        "\n",
        "Upon pouring into the office, everyone confirms that the Chief Historian is indeed nowhere to be found.\n",
        "Instead, the Elves discover an assortment of notes and lists of historically significant locations!\n",
        "This seems to be the planning the Chief Historian was doing before he left. Perhaps these notes can be used to determine which locations to search?\n",
        "\n",
        "Throughout the Chief's office, the historically significant locations are listed not by name but\n",
        "by a unique number called the location ID. To make sure they don't miss anything, The Historians split\n",
        "into two groups, each searching the office and trying to create their own complete list of location IDs.\n",
        "\n",
        "There's just one problem: by holding the two lists up side by side (your puzzle input), it quickly becomes\n",
        "clear that the lists aren't very similar. Maybe you can help The Historians reconcile their lists?\n",
        "\n",
        "For example:\n",
        "3 4\n",
        "4 3\n",
        "2 5\n",
        "1 3\n",
        "3 9\n",
        "3 3\n",
        "Maybe the lists are only off by a small amount! To find out, pair up the numbers and measure how far apart they are.\n",
        "Pair up the smallest number in the left list with the smallest number in the right list, then the\n",
        "second-smallest left number with the second-smallest right number, and so on.\n",
        "\n",
        "Within each pair, figure out how far apart the two numbers are; you'll need to add up all of those distances.\n",
        "For example, if you pair up a 3 from the left list with a 7 from the right list, the distance apart is 4;\n",
        "if you pair up a 9 with a 3, the distance apart is 6.\n",
        "\n",
        "In the example list above, the pairs and distances would be as follows:\n",
        "\n",
        "The smallest number in the left list is 1, and the smallest number in the right list is 3. The distance between them is 2.\n",
        "The second-smallest number in the left list is 2, and the second-smallest number in the right list is another 3.\n",
        "The distance between them is 1.\n",
        "The third-smallest number in both lists is 3, so the distance between them is 0. The next numbers to pair up are 3 and 4, a distance of 1.\n",
        "The fifth-smallest numbers\n",
        "in each list are 3 and 5, a distance of 2.\n",
        "Finally, the largest number in the left list is 4, while the largest number in the right list is 9;\n",
        "these are a distance 5 apart.\n",
        "To find the total distance between the left list and the right list, add up the distances\n",
        "between all of the pairs you found. In the example above, this is 2 + 1 + 0 + 1 + 2 + 5, a total distance of 11!\n",
        "\n",
        "Your actual left and right lists contain many location IDs. What is the total distance between your lists?\n",
        "```"
      ],
      "metadata": {
        "id": "EMr9_goUjECi"
      }
    },
    {
      "cell_type": "code",
      "source": [
        "with open('input1.txt', 'r') as file:\n",
        "    i = file.read()\n",
        "# Split the input string into a flat list of numbers (as strings)\n",
        "p = i.split()\n",
        "\n",
        "# Initialize two empty lists to store numbers from even and odd indices\n",
        "left = []\n",
        "right = []\n",
        "\n",
        "# Enumerate through the list `p` to access both index and value\n",
        "for i, j in enumerate(p):\n",
        "    if i % 2 == 0:  # Check if the index is even\n",
        "        left.append(int(j))  # Add the number to the 'left' list (convert to int)\n",
        "    else:  # Index is odd\n",
        "        right.append(int(j))  # Add the number to the 'right' list (convert to int)\n",
        "\n",
        "# Sort both lists in ascending order\n",
        "left.sort()\n",
        "right.sort()\n",
        "\n",
        "# Initialize a variable to store the total difference\n",
        "ans = 0\n",
        "\n",
        "# Iterate through the sorted 'left' and 'right' lists simultaneously\n",
        "for x, y in zip(left, right):\n",
        "    ans = ans + abs(y - x)  # Add the absolute difference between corresponding elements\n",
        "\n",
        "# Print the result\n",
        "print(ans) # Expected result: 805"
      ],
      "metadata": {
        "colab": {
          "base_uri": "https://localhost:8080/"
        },
        "id": "bjEus-RBc0Ku",
        "outputId": "93b2f50f-ab1b-4278-b9ae-a4f7f8886de5"
      },
      "execution_count": null,
      "outputs": [
        {
          "output_type": "stream",
          "name": "stdout",
          "text": [
            "805\n"
          ]
        }
      ]
    },
    {
      "cell_type": "markdown",
      "source": [],
      "metadata": {
        "id": "KiqemMFJkqBN"
      }
    }
  ]
}